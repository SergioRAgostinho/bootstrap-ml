{
 "cells": [
  {
   "cell_type": "markdown",
   "metadata": {},
   "source": [
    "# Setup\n",
    "\n",
    "For this workshop we're gonna leverage the power of *pip* as our package manager to set up all of our dependencies. \n",
    "\n",
    "**Note**: all material in this workshop is aimed at Python 3.5 and up. Some OSs package *pip* for Python 2 as `pip` and *pip* for Python 3 as `pip3` e.g, Ubuntu and Homebrew for Mac OS X. Although (I'm convinced that) *pip* is actually version agnostic, as long as it detects correctly your python installations, you might be required to invoke `pip3` in order to ensure *pip* is called with the right environment.\n",
    "\n",
    "For more information on setting up *pip* please check the [official documentation](https://pip.pypa.io/en/latest/installing/).\n",
    "\n",
    "**Note**: `pip` is an application which is installed alongside your Python runtime environment. By this I mean, all commands make use of `pip` are to be called in the terminal/command prompt, **not** inside the Python interpreter.\n",
    "\n",
    "If *pip* is properly set up, invoking respectively for Unix and Windows platforms\n",
    "\n",
    "```\n",
    "$ which pip3\n",
    "``` \n",
    "or\n",
    "\n",
    "```\n",
    "$ where pip3\n",
    "``` \n",
    "\n",
    "should return the path to the pip3 executable.\n",
    "\n",
    "### pip on Ubuntu\n",
    "\n",
    "Simply run \n",
    "\n",
    "```\n",
    "$ sudo apt-get install python3-pip\n",
    "```\n",
    "\n",
    "You'll it invoke as `pip3` afterwards.\n",
    "\n",
    "### pip on Mac OS X using Homebrew\n",
    "\n",
    "[Homebrew](https://brew.sh/) is a popular unofficial package manager for the Mac OS X platform. If you install Python 3 from Homebrew it'll come with pip already so you just need to invoke `pip3`.\n",
    "\n",
    "\n",
    "## Dependencies\n",
    "\n",
    "We're gonna use a number of publicly available open source libraries to provide basic linear algebra, visualization and algorithm implementations\n",
    "\n",
    "- [numpy](http://www.numpy.org/): array processing for numbers, strings, records, and objects.\n",
    "- [matplotlib](https://matplotlib.org/): Python plotting package\n",
    "- [scipy](https://www.scipy.org/): Scientific Library for Python.\n",
    "- [scikit-learn](scikit-learn.org/): A set of python modules for machine learning and data mining\n",
    "\n",
    "\n",
    "To install the dependencies simply invoke the following in your terminal.\n",
    "\n",
    "```\n",
    "$ pip3 install scikit-learn scipy matplotlib numpy\n",
    "```\n",
    "Alternatively you can download the requirements.txt file which is part of the repo's root folder and run\n",
    "\n",
    "```\n",
    "$ pip3 install -r requirements.txt\n",
    "```\n",
    "\n",
    "making sure you provide the appropriate path to the requirements file.\n",
    "\n",
    "\n",
    "With some luck all goes through without any issues and your environment is ready for set up. \n",
    "\n",
    "At the moment these are the current depencies we'll be using in the pratical part of the workshop. If something get's added I'll let you know."
   ]
  },
  {
   "cell_type": "markdown",
   "metadata": {},
   "source": [
    "\n",
    "### Jupyter (optional)\n",
    "\n",
    "The material for this workshop is provided in the format of interactive Python notebooks (`*.ipynb` files). GitHub is able to handle these pretty well, which is what is allowing you to visualize this small tutorial. But why watch when you can run, edit and augment things? Let *Jupyter* enter the scene.\n",
    "\n",
    "Jupyter (previously known as iPython) is a live web server which is able to display, edit and run interactive Python notebooks. The amount of things it can do is really impressive but for our purposes we'll stick to it's most basic features. Like most things in the Python world, Jupyter is conveniently shipped through pip.\n",
    "\n",
    "```\n",
    "$ pip3 install jupyter\n",
    "```\n",
    "\n",
    "Do you need Jupyter to run the code from the tutorials? No! The Python engine and the modules mentioned in the previous section are more than enough to get the job done, that's why it's not included as a dependency. It's more of a \"recommended\" dependecy in Aptitude lingo."
   ]
  },
  {
   "cell_type": "markdown",
   "metadata": {},
   "source": [
    "## Testing things\n",
    "\n",
    "If everything went ok with pip's installation, the following lines should execute without any problem.\n",
    "\n",
    "### *numpy*"
   ]
  },
  {
   "cell_type": "code",
   "execution_count": 1,
   "metadata": {},
   "outputs": [
    {
     "name": "stdout",
     "output_type": "stream",
     "text": [
      "1.14.1\n",
      "[[1. 0. 0.]\n",
      " [0. 1. 0.]\n",
      " [0. 0. 1.]]\n"
     ]
    }
   ],
   "source": [
    "import numpy\n",
    "print(numpy.__version__)\n",
    "\n",
    "print(numpy.eye(3))"
   ]
  },
  {
   "cell_type": "markdown",
   "metadata": {},
   "source": [
    "### *matplotlib*\n",
    "\n",
    "**IMPORTANT**: *matplotlib* requires additional configuration of a rendering backend in order to display plots interactively. The [documentation](https://matplotlib.org/faq/usage_faq.html#what-is-a-backend) provides instructions on how to achieve this.\n",
    "\n",
    "One possible way of configuring the backend is by providing a configuration file to matplotlib named `matplotlibrc`. Each environment is unique but on Ubuntu this configuration file should be located at `$HOME/.config/matplotlib/matplotlibrc`. On Windows it should be placed at `%HOME%/.matplotlib/matplotlibrc`.\n",
    "Here's configuration of the machine this document is being written on\n",
    "\n",
    "```\n",
    "#### CONFIGURATION BEGINS HERE\n",
    "\n",
    "# The default backend; one of GTK GTKAgg GTKCairo GTK3Agg GTK3Cairo\n",
    "# MacOSX Qt4Agg Qt5Agg TkAgg WX WXAgg Agg Cairo GDK PS PDF SVG\n",
    "# Template.\n",
    "# You can also deploy your own backend outside of matplotlib by\n",
    "# referring to the module name (which must be in the PYTHONPATH) as\n",
    "# 'module://my_backend'.\n",
    "backend      : TkAgg\n",
    "```\n",
    "\n",
    "Now let's test it out."
   ]
  },
  {
   "cell_type": "code",
   "execution_count": 2,
   "metadata": {},
   "outputs": [
    {
     "name": "stdout",
     "output_type": "stream",
     "text": [
      "1.5.1\n"
     ]
    },
    {
     "data": {
      "image/png": "[encoded data removed]",
      "text/plain": [
       "<matplotlib.figure.Figure at 0x7fa023c83c18>"
      ]
     },
     "metadata": {},
     "output_type": "display_data"
    }
   ],
   "source": [
    "#the command below only applies to jupyter\n",
    "%matplotlib inline\n",
    "\n",
    "import matplotlib\n",
    "import matplotlib.pyplot as plt\n",
    "\n",
    "print(matplotlib.__version__)\n",
    "\n",
    "plt.scatter(range(1,10), range(1,10))\n",
    "plt.show()"
   ]
  },
  {
   "cell_type": "markdown",
   "metadata": {},
   "source": [
    "### *scikit learn*"
   ]
  },
  {
   "cell_type": "code",
   "execution_count": 3,
   "metadata": {},
   "outputs": [
    {
     "data": {
      "text/plain": [
       "'0.19.1'"
      ]
     },
     "execution_count": 3,
     "metadata": {},
     "output_type": "execute_result"
    }
   ],
   "source": [
    "import sklearn\n",
    "sklearn.__version__"
   ]
  },
  {
   "cell_type": "markdown",
   "metadata": {},
   "source": [
    "### *SciPy*"
   ]
  },
  {
   "cell_type": "code",
   "execution_count": 1,
   "metadata": {},
   "outputs": [
    {
     "data": {
      "text/plain": [
       "'1.0.0'"
      ]
     },
     "execution_count": 1,
     "metadata": {},
     "output_type": "execute_result"
    }
   ],
   "source": [
    "import scipy\n",
    "scipy.__version__"
   ]
  },
  {
   "cell_type": "markdown",
   "metadata": {},
   "source": [
    "## Issues\n",
    "\n",
    "If you run into troubles or find mistakes, bugs, please open an issue on the [issue tracker](https://github.com/SergioRAgostinho/bootstrap-ml/issues).\n"
   ]
  }
 ],
 "metadata": {
  "kernelspec": {
   "display_name": "Python 3",
   "language": "python",
   "name": "python3"
  },
  "language_info": {
   "codemirror_mode": {
    "name": "ipython",
    "version": 3
   },
   "file_extension": ".py",
   "mimetype": "text/x-python",
   "name": "python",
   "nbconvert_exporter": "python",
   "pygments_lexer": "ipython3",
   "version": "3.6.4"
  }
 },
 "nbformat": 4,
 "nbformat_minor": 2
}
